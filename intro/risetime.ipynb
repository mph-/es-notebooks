{
 "cells": [
  {
   "cell_type": "markdown",
   "id": "042c4640",
   "metadata": {},
   "source": [
    "# CMOS switching\n",
    "\n",
    "In this demo, `Cl_pF` is the load capacitance in pF.\n",
    "\n",
    "![](figs/cmos_C_load.png)"
   ]
  },
  {
   "cell_type": "code",
   "execution_count": 1,
   "id": "e950bc43",
   "metadata": {},
   "outputs": [],
   "source": [
    "%matplotlib inline"
   ]
  },
  {
   "cell_type": "code",
   "execution_count": 2,
   "id": "301825ff",
   "metadata": {},
   "outputs": [
    {
     "data": {
      "application/vnd.jupyter.widget-view+json": {
       "model_id": "8e0a4caadda2444dba95c9fc4282e1df",
       "version_major": 2,
       "version_minor": 0
      },
      "text/plain": [
       "interactive(children=(Dropdown(description='model', options=('sam4s pa0', 'sam4s pa12', 'sam4s ddp'), value='s…"
      ]
     },
     "metadata": {},
     "output_type": "display_data"
    }
   ],
   "source": [
    "from demos import risetime_demo1\n",
    "risetime_demo1();"
   ]
  },
  {
   "cell_type": "markdown",
   "id": "1f8b3b3e",
   "metadata": {},
   "source": [
    "## CMOS switching with DC load\n",
    "\n",
    "In this demo, `Cl_pF` is the load capacitance in pF.  There is also a Thevenin load consisting of a voltage `Vt` applied through a resistor `Rt`.\n",
    "\n",
    "![](figs/cmos_C_load_thevenin.png)"
   ]
  },
  {
   "cell_type": "code",
   "execution_count": 3,
   "id": "e408f3ed",
   "metadata": {
    "scrolled": false
   },
   "outputs": [
    {
     "data": {
      "application/vnd.jupyter.widget-view+json": {
       "model_id": "5f7ac3d0f2b74b58b94f078f9ffaf811",
       "version_major": 2,
       "version_minor": 0
      },
      "text/plain": [
       "interactive(children=(Dropdown(description='model', options=('sam4s pa0', 'sam4s pa12', 'sam4s ddp'), value='s…"
      ]
     },
     "metadata": {},
     "output_type": "display_data"
    }
   ],
   "source": [
    "from demos import risetime_demo2\n",
    "risetime_demo2();"
   ]
  },
  {
   "cell_type": "markdown",
   "id": "8d9c2e82",
   "metadata": {},
   "source": [
    "## CMOS switching with series resistance\n",
    "\n",
    "In this demo, `Cl_pF` is the load capacitance in pF.  This is connected via a series resistance `Rs`.\n",
    "\n",
    "![](figs/cmos_R_series_C_load.png)"
   ]
  },
  {
   "cell_type": "code",
   "execution_count": 4,
   "id": "7a35bffe",
   "metadata": {},
   "outputs": [
    {
     "data": {
      "application/vnd.jupyter.widget-view+json": {
       "model_id": "d09c7169a9a742ae93ba6128af5394ae",
       "version_major": 2,
       "version_minor": 0
      },
      "text/plain": [
       "interactive(children=(Dropdown(description='model', options=('sam4s pa0', 'sam4s pa12', 'sam4s ddp'), value='s…"
      ]
     },
     "metadata": {},
     "output_type": "display_data"
    }
   ],
   "source": [
    "from demos import risetime_demo3\n",
    "risetime_demo3();"
   ]
  },
  {
   "cell_type": "markdown",
   "id": "3b3720c6",
   "metadata": {},
   "source": [
    "## CMOS switching with parasitics\n",
    "\n",
    "In this demo, `Cl_pF` is the load capacitance in pF.  This is connected via a series resistance `Rs`.  The inverter has an output capacitance `C_comp_pF` and parasitic packaging components denoted with the `pkg` suffix.  Finally, there is a Thevenin load to model pull-up or pull-down termination.\n",
    "\n",
    "![](figs/cmos_ibis_R_series_C_load_thevenin.png)\n"
   ]
  },
  {
   "cell_type": "code",
   "execution_count": 5,
   "id": "59830997",
   "metadata": {
    "scrolled": false
   },
   "outputs": [
    {
     "data": {
      "application/vnd.jupyter.widget-view+json": {
       "model_id": "4b622a1c72eb4e4799be20aaa6e41611",
       "version_major": 2,
       "version_minor": 0
      },
      "text/plain": [
       "interactive(children=(Dropdown(description='model', options=('sam4s pa0', 'sam4s pa12', 'sam4s ddp'), value='s…"
      ]
     },
     "metadata": {},
     "output_type": "display_data"
    }
   ],
   "source": [
    "from demos import risetime_demo4\n",
    "risetime_demo4();"
   ]
  }
 ],
 "metadata": {
  "kernelspec": {
   "display_name": "Python 3 (ipykernel)",
   "language": "python",
   "name": "python3"
  },
  "language_info": {
   "codemirror_mode": {
    "name": "ipython",
    "version": 3
   },
   "file_extension": ".py",
   "mimetype": "text/x-python",
   "name": "python",
   "nbconvert_exporter": "python",
   "pygments_lexer": "ipython3",
   "version": "3.7.11"
  }
 },
 "nbformat": 4,
 "nbformat_minor": 5
}
