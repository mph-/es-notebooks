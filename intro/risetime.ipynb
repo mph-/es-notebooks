{
 "cells": [
  {
   "cell_type": "markdown",
   "id": "042c4640",
   "metadata": {},
   "source": [
    "# CMOS switching\n",
    "\n",
    "In this demo, `Cl_pF` is the load capacitance in pF.\n",
    "\n",
    "![](figs/cmos_C_load.png)"
   ]
  },
  {
   "cell_type": "code",
   "execution_count": 1,
   "id": "e950bc43",
   "metadata": {},
   "outputs": [],
   "source": [
    "%matplotlib inline"
   ]
  },
  {
   "cell_type": "code",
   "execution_count": 2,
   "id": "301825ff",
   "metadata": {},
   "outputs": [
    {
     "data": {
      "application/vnd.jupyter.widget-view+json": {
       "model_id": "eebcc7022ec3481cb428aa73f092096c",
       "version_major": 2,
       "version_minor": 0
      },
      "text/plain": [
       "interactive(children=(Dropdown(description='model', options=('sam4s pa0', 'sam4s pa12', 'sam4s ddp'), value='s…"
      ]
     },
     "metadata": {},
     "output_type": "display_data"
    }
   ],
   "source": [
    "from demos import risetime_demo1\n",
    "risetime_demo1();"
   ]
  },
  {
   "cell_type": "markdown",
   "id": "1f8b3b3e",
   "metadata": {},
   "source": [
    "## CMOS switching with DC load\n",
    "\n",
    "In this demo, `Cl_pF` is the load capacitance in pF.  There is also a Thevenin load consisting of a voltage `Vt` applied through a resistor `Rt`.\n",
    "\n",
    "![](figs/cmos_C_load_thevenin.png)"
   ]
  },
  {
   "cell_type": "code",
   "execution_count": 3,
   "id": "e408f3ed",
   "metadata": {
    "scrolled": true
   },
   "outputs": [
    {
     "data": {
      "application/vnd.jupyter.widget-view+json": {
       "model_id": "c377ff46530246ddb77cd0e0f3f26c9c",
       "version_major": 2,
       "version_minor": 0
      },
      "text/plain": [
       "interactive(children=(Dropdown(description='model', options=('sam4s pa0', 'sam4s pa12', 'sam4s ddp'), value='s…"
      ]
     },
     "metadata": {},
     "output_type": "display_data"
    }
   ],
   "source": [
    "from demos import risetime_demo2\n",
    "risetime_demo2();"
   ]
  },
  {
   "cell_type": "markdown",
   "id": "8d9c2e82",
   "metadata": {},
   "source": [
    "## CMOS switching with series resistance\n",
    "\n",
    "In this demo, `Cl_pF` is the load capacitance in pF.  This is connected via a series resistance `Rs`.\n",
    "\n",
    "![](figs/cmos_R_series_C_load.png)"
   ]
  },
  {
   "cell_type": "code",
   "execution_count": 6,
   "id": "7a35bffe",
   "metadata": {},
   "outputs": [
    {
     "data": {
      "application/vnd.jupyter.widget-view+json": {
       "model_id": "ced50f2147eb42b980b7fc86846bb335",
       "version_major": 2,
       "version_minor": 0
      },
      "text/plain": [
       "interactive(children=(Dropdown(description='model', options=('sam4s pa0', 'sam4s pa12', 'sam4s ddp'), value='s…"
      ]
     },
     "metadata": {},
     "output_type": "display_data"
    }
   ],
   "source": [
    "from demos import risetime_demo3\n",
    "risetime_demo3();"
   ]
  },
  {
   "cell_type": "markdown",
   "id": "3b3720c6",
   "metadata": {},
   "source": [
    "## CMOS switching with parasitics\n",
    "\n",
    "In this demo, `Cl_pF` is the load capacitance in pF.  This is connected via a series resistance `Rs`.  The inverter has an output capacitance `C_comp_pF` and parasitic packaging components denoted with the `pkg` suffix.  Finally, there is a Thevenin load to model pull-up or pull-down termination.\n",
    "\n",
    "![](figs/cmos_ibis_R_series_C_load_thevenin.png)\n"
   ]
  },
  {
   "cell_type": "code",
   "execution_count": 5,
   "id": "59830997",
   "metadata": {
    "scrolled": false
   },
   "outputs": [
    {
     "data": {
      "application/vnd.jupyter.widget-view+json": {
       "model_id": "df20127281c04e6da1bf90c1f83c8712",
       "version_major": 2,
       "version_minor": 0
      },
      "text/plain": [
       "interactive(children=(Dropdown(description='model', options=('sam4s pa0', 'sam4s pa12', 'sam4s ddp'), value='s…"
      ]
     },
     "metadata": {},
     "output_type": "display_data"
    }
   ],
   "source": [
    "from demos import risetime_demo4\n",
    "risetime_demo4();"
   ]
  }
 ],
 "metadata": {
  "kernelspec": {
   "display_name": "Python 3 (ipykernel)",
   "language": "python",
   "name": "python3"
  },
  "language_info": {
   "codemirror_mode": {
    "name": "ipython",
    "version": 3
   },
   "file_extension": ".py",
   "mimetype": "text/x-python",
   "name": "python",
   "nbconvert_exporter": "python",
   "pygments_lexer": "ipython3",
   "version": "3.7.11"
  }
 },
 "nbformat": 4,
 "nbformat_minor": 5
}
