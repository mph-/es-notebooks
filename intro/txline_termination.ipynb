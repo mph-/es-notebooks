{
 "cells": [
  {
   "cell_type": "markdown",
   "id": "102ef1d5",
   "metadata": {},
   "source": [
    "# Transmission line termination\n",
    "\n",
    "These demos consider a 1 m transmission line with a propagation speed of 2/3 c, i.e, it takes 5 ns for an EM wave to propagate 1 m.  The transmission is driven by a 4 V voltage step.  The voltage and current is shown as a function of distance along the transmission line at a specified time.\n",
    "\n",
    "![](figs/txline_mismatch_example1.png)"
   ]
  },
  {
   "cell_type": "markdown",
   "id": "a50dbaa4",
   "metadata": {},
   "source": [
    "## Transmission line receiver termination\n",
    "\n",
    "For receiver termination $R_l =Z_0$.  The Thevenin voltage `Vt` is $V_{\\mathrm{DD}} R_2 / (R_1 + R_2) $ for split termination, $V_{\\mathrm{DD}}$ for pullup termination, and 0 for pulldown termination."
   ]
  },
  {
   "cell_type": "code",
   "execution_count": 1,
   "id": "6190bd0d",
   "metadata": {},
   "outputs": [
    {
     "data": {
      "application/vnd.jupyter.widget-view+json": {
       "model_id": "d4c3cb2c30964d5b80921a8c3fca326e",
       "version_major": 2,
       "version_minor": 0
      },
      "text/plain": [
       "interactive(children=(Dropdown(description='Z0', index=1, options=(50, 60, 80, 100), value=60), Dropdown(descr…"
      ]
     },
     "metadata": {},
     "output_type": "display_data"
    }
   ],
   "source": [
    "%matplotlib inline\n",
    "from demos import txline_receiver_termination_demo1\n",
    "txline_receiver_termination_demo1();"
   ]
  },
  {
   "cell_type": "markdown",
   "id": "aebc71a0",
   "metadata": {},
   "source": [
    "## Transmission line source termination\n",
    "\n",
    "For source termination $R_s = Z_0$."
   ]
  },
  {
   "cell_type": "code",
   "execution_count": 2,
   "id": "6438c574",
   "metadata": {},
   "outputs": [
    {
     "data": {
      "application/vnd.jupyter.widget-view+json": {
       "model_id": "20f4cedf52e64707b2d41e9ab67d2ead",
       "version_major": 2,
       "version_minor": 0
      },
      "text/plain": [
       "interactive(children=(Dropdown(description='Z0', index=1, options=(50, 60, 80, 100), value=60), IntSlider(valu…"
      ]
     },
     "metadata": {},
     "output_type": "display_data"
    }
   ],
   "source": [
    "from demos import txline_source_termination_demo1\n",
    "txline_source_termination_demo1();"
   ]
  },
  {
   "cell_type": "markdown",
   "id": "7cc9d97b",
   "metadata": {},
   "source": [
    "## Passive Thevenin termination loading\n",
    "\n",
    "![](figs/txline_passive_thevenin.png)\n",
    "\n",
    "This demo shows the loading effect of passive Thevenin termination on a SAM4S PA0 pin.  To achieve no reflection we require\n",
    "\n",
    "$$R_1 \\parallel R_2 = Z_0.$$\n",
    "\n",
    "The Thevenin voltage at the load is\n",
    "\n",
    "$$V_t = \\frac{R_2}{R_1 + R_2} V_{\\mathrm{dd}}.$$"
   ]
  },
  {
   "cell_type": "code",
   "execution_count": 3,
   "id": "a3cbec70",
   "metadata": {},
   "outputs": [
    {
     "data": {
      "application/vnd.jupyter.widget-view+json": {
       "model_id": "68bcb56f47cf4f49bde0f461f9bedb3f",
       "version_major": 2,
       "version_minor": 0
      },
      "text/plain": [
       "interactive(children=(Dropdown(description='Z0', options=(60, 80, 100), value=60), Dropdown(description='R1', …"
      ]
     },
     "metadata": {},
     "output_type": "display_data"
    }
   ],
   "source": [
    "from demos import txline_IV_termination_demo2\n",
    "txline_IV_termination_demo2();"
   ]
  }
 ],
 "metadata": {
  "kernelspec": {
   "display_name": "Python 3 (ipykernel)",
   "language": "python",
   "name": "python3"
  },
  "language_info": {
   "codemirror_mode": {
    "name": "ipython",
    "version": 3
   },
   "file_extension": ".py",
   "mimetype": "text/x-python",
   "name": "python",
   "nbconvert_exporter": "python",
   "pygments_lexer": "ipython3",
   "version": "3.7.11"
  }
 },
 "nbformat": 4,
 "nbformat_minor": 5
}
