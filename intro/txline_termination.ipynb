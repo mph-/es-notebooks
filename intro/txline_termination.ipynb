{
 "cells": [
  {
   "cell_type": "markdown",
   "id": "102ef1d5",
   "metadata": {},
   "source": [
    "# Transmission line termination\n",
    "\n",
    "These demos consider a 1 m transmission line with a propagation speed of 2/3 c, i.e, it takes 5 ns for an EM wave to propagate 1 m.  The transmission is driven by a 4 V voltage step.  The voltage and current is shown as a function of distance along the transmission line at a specified time.\n",
    "\n",
    "![](figs/txline_mismatch_example2.png)"
   ]
  },
  {
   "cell_type": "markdown",
   "id": "a50dbaa4",
   "metadata": {},
   "source": [
    "## Transmission line receiver termination\n",
    "\n",
    "For receiver termination $R_t =Z_0$.  The Thevenin voltage $V_t$ is given by $\\frac{V_{\\mathrm{DD}} R_2}{R_1 + R_2} $ for split termination, $V_{\\mathrm{DD}}$ for pullup termination, and 0 for pulldown termination.\n",
    "\n",
    "![](figs/txline_passive_thevenin_termination.png)\n",
    "\n",
    "This demo shows the loading effect of passive Thevenin termination on a SAM4S PA0 pin.  To achieve no reflection we require\n",
    "\n",
    "$$R_t = R_1 \\parallel R_2 = Z_0.$$\n",
    "\n",
    "The Thevenin voltage at the load is\n",
    "\n",
    "$$V_t = \\frac{R_2}{R_1 + R_2} V_{\\mathrm{dd}}.$$"
   ]
  },
  {
   "cell_type": "code",
   "execution_count": 4,
   "id": "6190bd0d",
   "metadata": {
    "scrolled": false
   },
   "outputs": [
    {
     "data": {
      "application/vnd.jupyter.widget-view+json": {
       "model_id": "c2d4da6d27ce45f990265ce741e3538b",
       "version_major": 2,
       "version_minor": 0
      },
      "text/plain": [
       "interactive(children=(Dropdown(description='Rt', index=6, options=(0, 30, 40, 50, 60, 100, 100000), value=1000…"
      ]
     },
     "metadata": {},
     "output_type": "display_data"
    }
   ],
   "source": [
    "%matplotlib inline\n",
    "from demos import txline_receiver_termination_demo1\n",
    "txline_receiver_termination_demo1();"
   ]
  },
  {
   "cell_type": "markdown",
   "id": "aebc71a0",
   "metadata": {},
   "source": [
    "## Transmission line source termination\n",
    "\n",
    "![](figs/txline_source_termination.png)\n",
    "\n",
    "For source termination $R_s = R_o + R_t = Z_0$."
   ]
  },
  {
   "cell_type": "code",
   "execution_count": 5,
   "id": "6438c574",
   "metadata": {},
   "outputs": [
    {
     "data": {
      "application/vnd.jupyter.widget-view+json": {
       "model_id": "b1438113fc534ad9b4af944bfe25e56a",
       "version_major": 2,
       "version_minor": 0
      },
      "text/plain": [
       "interactive(children=(Dropdown(description='Ro', index=2, options=(0, 10, 20, 30), value=20), Dropdown(descrip…"
      ]
     },
     "metadata": {},
     "output_type": "display_data"
    }
   ],
   "source": [
    "from demos import txline_source_termination_demo1\n",
    "txline_source_termination_demo1();"
   ]
  },
  {
   "cell_type": "markdown",
   "id": "a5e0a27a",
   "metadata": {},
   "source": [
    "## Passive Thevenin termination loading"
   ]
  },
  {
   "cell_type": "code",
   "execution_count": 6,
   "id": "f2b48060",
   "metadata": {},
   "outputs": [
    {
     "data": {
      "application/vnd.jupyter.widget-view+json": {
       "model_id": "38d85381654c4bdcbcd15eb090717f18",
       "version_major": 2,
       "version_minor": 0
      },
      "text/plain": [
       "interactive(children=(Dropdown(description='Z0', options=(60, 80, 100), value=60), Dropdown(description='R1', …"
      ]
     },
     "metadata": {},
     "output_type": "display_data"
    }
   ],
   "source": [
    "from demos import txline_IV_termination_demo2\n",
    "txline_IV_termination_demo2();"
   ]
  }
 ],
 "metadata": {
  "kernelspec": {
   "display_name": "Python 3 (ipykernel)",
   "language": "python",
   "name": "python3"
  },
  "language_info": {
   "codemirror_mode": {
    "name": "ipython",
    "version": 3
   },
   "file_extension": ".py",
   "mimetype": "text/x-python",
   "name": "python",
   "nbconvert_exporter": "python",
   "pygments_lexer": "ipython3",
   "version": "3.7.11"
  }
 },
 "nbformat": 4,
 "nbformat_minor": 5
}
