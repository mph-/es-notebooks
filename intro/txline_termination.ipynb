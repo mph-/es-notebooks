{
 "cells": [
  {
   "cell_type": "markdown",
   "id": "af2857c7",
   "metadata": {},
   "source": [
    "# Transmission line reflections\n",
    "\n",
    "These demos consider a 1 m transmission line with a propagation speed of 2/3 c, i.e, it takes 5 ns for an EM wave to propagate 1 m.  The transmission is driven by a 4 V voltage step.  The voltage and current is shown as a function of distance along the transmission line at a specified time.\n",
    "\n",
    "![](figs/txline_mismatch_example1.png)"
   ]
  },
  {
   "cell_type": "markdown",
   "id": "3e992775",
   "metadata": {},
   "source": [
    "## Transmission line delay\n",
    "\n",
    "In this demo consider a transmission line terminated in its characteristic impedance so there are no reflections.\n",
    "The blue line shows the waveform at the start of the transmission line and the orange waveform shows the waveform at the end of the transmission line.  For short transmission lines, `l_cm`, or slow risetimes the time delay has negligible efffect and the waveforms look identical.  However, for long transmission lines or fast risetimes, the voltages are not the same.  The orange waveform is dashed if the delay is insignifcant using the rule of thumb, `L < v T_r / 6`, where the speed of propagation `v` is `0.667 c`."
   ]
  },
  {
   "cell_type": "code",
   "execution_count": 1,
   "id": "6b528f24",
   "metadata": {},
   "outputs": [
    {
     "data": {
      "application/vnd.jupyter.widget-view+json": {
       "model_id": "4ddb513355424964b4853fb96ced473d",
       "version_major": 2,
       "version_minor": 0
      },
      "text/plain": [
       "interactive(children=(Dropdown(description='Tr_ns', options=(1, 2, 10, 100, 1000), value=1), Dropdown(descript…"
      ]
     },
     "metadata": {},
     "output_type": "display_data"
    }
   ],
   "source": [
    "%matplotlib inline\n",
    "from demos import txline_risetime_demo1\n",
    "txline_risetime_demo1();"
   ]
  },
  {
   "cell_type": "markdown",
   "id": "528e735e",
   "metadata": {},
   "source": [
    "## Transmission line lattice diagram\n",
    "\n",
    "The reflections due to impedance mismatches at both ends of a transmission line are best considered with a lattice diagram.  This shows the voltage of the propagating pulse as a function of time and position along the transmission line.\n",
    "\n",
    "For example, choose $V_s=4$, $Z_0=60$, $R_s=20$, and $R_l=\\infty$.   In the steady state the load voltage is $V_l=4$ and the load current is $I_l=0$ as expected from circuit theory.\n",
    "\n",
    "When there is a step change of the source voltage from 0 to 4 V, a 3 V voltage pulse enters the transmission line.  This is because the characteristic impedance of the transmission line acts as a voltage divider with the source resistance $4 \\times \\frac{60}{60 + 20} = 3$.  The corresponding pulse of current is $\\frac{3}{60} = 50$ mA.  When the pulse of energy reaches the end of the transmission line (with a delay of 5 ns) it gets reflected.  The voltage reflection coefficient is $\\frac{R_l - Z_0}{R_l + Z_0} = 1$ and the current reflection coefficient is -1.   Thus a 3 V pulse with current -50 mA propagates back to the source adding to the 3 V and 50 mA due to the initial pulse.   When the reflected pulse reaches the start of the transmission line it is reflected with a voltage reflection coefficient $\\frac{R_s - Z_0}{R_s + Z_0} = -0.5$ and current reflection coefficient 0.5.  This produces a another reflection with a voltage -1.5 V and current -25 mA.  Eventually all these reflections will die out resulting in a steady state value."
   ]
  },
  {
   "cell_type": "code",
   "execution_count": 2,
   "id": "240918bb",
   "metadata": {},
   "outputs": [
    {
     "data": {
      "application/vnd.jupyter.widget-view+json": {
       "model_id": "5345ac73bbbc43b783be774087eeaf12",
       "version_major": 2,
       "version_minor": 0
      },
      "text/plain": [
       "interactive(children=(Dropdown(description='Z0', index=1, options=(50, 60, 80, 100), value=60), Dropdown(descr…"
      ]
     },
     "metadata": {},
     "output_type": "display_data"
    }
   ],
   "source": [
    "from demos import txline_lattice_demo1\n",
    "txline_lattice_demo1();"
   ]
  },
  {
   "cell_type": "markdown",
   "id": "bc609c49",
   "metadata": {},
   "source": [
    "# Summed transmission line reflections\n",
    "\n",
    "This demos shows how the reflected waves sum at different points along the transmission line."
   ]
  },
  {
   "cell_type": "code",
   "execution_count": 3,
   "id": "974b05b5",
   "metadata": {
    "scrolled": false
   },
   "outputs": [
    {
     "data": {
      "application/vnd.jupyter.widget-view+json": {
       "model_id": "2aa39a3c0d914e12a97eaacf9e2e4a12",
       "version_major": 2,
       "version_minor": 0
      },
      "text/plain": [
       "interactive(children=(Dropdown(description='Z0', index=1, options=(50, 60, 80, 100), value=60), Dropdown(descr…"
      ]
     },
     "metadata": {},
     "output_type": "display_data"
    }
   ],
   "source": [
    "from demos import txline_demo3\n",
    "txline_demo3();"
   ]
  },
  {
   "cell_type": "markdown",
   "id": "1bf37483",
   "metadata": {},
   "source": [
    "# Transmission line waveforms\n",
    "\n",
    "This demo shows the waveforms at the source and load ends of the transmission line."
   ]
  },
  {
   "cell_type": "code",
   "execution_count": 4,
   "id": "b1afff16",
   "metadata": {
    "scrolled": true
   },
   "outputs": [
    {
     "data": {
      "application/vnd.jupyter.widget-view+json": {
       "model_id": "307b4a35366b4d0f87c6b870360401b8",
       "version_major": 2,
       "version_minor": 0
      },
      "text/plain": [
       "interactive(children=(Dropdown(description='Z0', index=1, options=(50, 60, 80, 100), value=60), Dropdown(descr…"
      ]
     },
     "metadata": {},
     "output_type": "display_data"
    }
   ],
   "source": [
    "from demos import txline_demo4\n",
    "txline_demo4();"
   ]
  },
  {
   "cell_type": "markdown",
   "id": "52d784a7",
   "metadata": {
    "scrolled": false
   },
   "source": []
  },
  {
   "cell_type": "code",
   "execution_count": 5,
   "id": "2e87e2c2",
   "metadata": {},
   "outputs": [
    {
     "data": {
      "application/vnd.jupyter.widget-view+json": {
       "model_id": "3634694dae43418080f691e2252fd17c",
       "version_major": 2,
       "version_minor": 0
      },
      "text/plain": [
       "interactive(children=(Dropdown(description='Z0', index=1, options=(50, 60, 80, 100), value=60), Dropdown(descr…"
      ]
     },
     "metadata": {},
     "output_type": "display_data"
    }
   ],
   "source": []
  },
  {
   "cell_type": "markdown",
   "id": "26974715",
   "metadata": {},
   "source": []
  },
  {
   "cell_type": "code",
   "execution_count": 6,
   "id": "fb5157db",
   "metadata": {},
   "outputs": [
    {
     "data": {
      "application/vnd.jupyter.widget-view+json": {
       "model_id": "276f253b5e8f4bbe8de98f46c45d37bf",
       "version_major": 2,
       "version_minor": 0
      },
      "text/plain": [
       "interactive(children=(Dropdown(description='Z0', index=1, options=(50, 60, 80, 100), value=60), IntSlider(valu…"
      ]
     },
     "metadata": {},
     "output_type": "display_data"
    }
   ],
   "source": []
  }
 ],
 "metadata": {
  "kernelspec": {
   "display_name": "Python 3 (ipykernel)",
   "language": "python",
   "name": "python3"
  },
  "language_info": {
   "codemirror_mode": {
    "name": "ipython",
    "version": 3
   },
   "file_extension": ".py",
   "mimetype": "text/x-python",
   "name": "python",
   "nbconvert_exporter": "python",
   "pygments_lexer": "ipython3",
   "version": "3.7.11"
  }
 },
 "nbformat": 4,
 "nbformat_minor": 5
}
