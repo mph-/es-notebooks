{
 "cells": [
  {
   "cell_type": "markdown",
   "id": "102ef1d5",
   "metadata": {},
   "source": [
    "# Transmission line termination\n",
    "\n",
    "These demos consider a 1 m transmission line with a propagation speed of 2/3 c, i.e, it takes 5 ns for an EM wave to propagate 1 m.  The transmission is driven by a 4 V voltage step.  The voltage and current is shown as a function of distance along the transmission line at a specified time.\n",
    "\n",
    "![](figs/txline_mismatch_example1.png)"
   ]
  },
  {
   "cell_type": "markdown",
   "id": "a50dbaa4",
   "metadata": {},
   "source": [
    "## Transmission line receiver termination\n",
    "\n",
    "For receiver termination $R_l =Z_0$.  The Thevenin voltage `Vt` is $V_{\\mathrm{DD}} R_2 / (R_1 + R_2) $ for split termination, $V_{\\mathrm{DD}}$ for pullup termination, and 0 for pulldown termination."
   ]
  },
  {
   "cell_type": "code",
   "execution_count": 1,
   "id": "6190bd0d",
   "metadata": {},
   "outputs": [
    {
     "data": {
      "application/vnd.jupyter.widget-view+json": {
       "model_id": "021650dccf624a1f9561c44c714634b4",
       "version_major": 2,
       "version_minor": 0
      },
      "text/plain": [
       "interactive(children=(Dropdown(description='Z0', index=1, options=(50, 60, 80, 100), value=60), Dropdown(descr…"
      ]
     },
     "metadata": {},
     "output_type": "display_data"
    }
   ],
   "source": [
    "%matplotlib inline\n",
    "from demos import txline_receiver_termination_demo1\n",
    "txline_receiver_termination_demo1();"
   ]
  },
  {
   "cell_type": "markdown",
   "id": "aebc71a0",
   "metadata": {},
   "source": [
    "## Transmission line source termination\n",
    "\n",
    "For source termination $R_s = Z_0$."
   ]
  },
  {
   "cell_type": "code",
   "execution_count": 2,
   "id": "6438c574",
   "metadata": {},
   "outputs": [
    {
     "data": {
      "application/vnd.jupyter.widget-view+json": {
       "model_id": "d0fca33b23a345c8b1b3b0536d51286a",
       "version_major": 2,
       "version_minor": 0
      },
      "text/plain": [
       "interactive(children=(Dropdown(description='Z0', index=1, options=(50, 60, 80, 100), value=60), IntSlider(valu…"
      ]
     },
     "metadata": {},
     "output_type": "display_data"
    }
   ],
   "source": [
    "from demos import txline_source_termination_demo1\n",
    "txline_source_termination_demo1();"
   ]
  },
  {
   "cell_type": "markdown",
   "id": "f46fdbcc",
   "metadata": {},
   "source": [
    "## Passive Thevenin termination\n",
    "\n",
    "This demo shows the loading effect of passive Thevenin termination on a SAM4S PA0 pin.  The characteristic impedance is $Z_0=60$ ohms and to achieve this we need \n",
    "\n",
    "$$R_1 \\parallel R_2 = Z_0.$$\n",
    "\n",
    "The Thevenin voltage at the load is\n",
    "\n",
    "$$V_t = \\frac{R_2}{R_1 + R_2} V_{\\mathrm{dd}}.$$"
   ]
  },
  {
   "cell_type": "code",
   "execution_count": 3,
   "id": "36c79cd6",
   "metadata": {},
   "outputs": [
    {
     "data": {
      "application/vnd.jupyter.widget-view+json": {
       "model_id": "049587e476ad49759f931d7d29ce6b93",
       "version_major": 2,
       "version_minor": 0
      },
      "text/plain": [
       "interactive(children=(Dropdown(description='R1', index=3, options=(60, 80, 100, 120, 240, 1000000), value=120)…"
      ]
     },
     "metadata": {},
     "output_type": "display_data"
    }
   ],
   "source": [
    "from demos import txline_IV_termination_demo1\n",
    "txline_IV_termination_demo1();"
   ]
  }
 ],
 "metadata": {
  "kernelspec": {
   "display_name": "Python 3 (ipykernel)",
   "language": "python",
   "name": "python3"
  },
  "language_info": {
   "codemirror_mode": {
    "name": "ipython",
    "version": 3
   },
   "file_extension": ".py",
   "mimetype": "text/x-python",
   "name": "python",
   "nbconvert_exporter": "python",
   "pygments_lexer": "ipython3",
   "version": "3.7.11"
  }
 },
 "nbformat": 4,
 "nbformat_minor": 5
}
