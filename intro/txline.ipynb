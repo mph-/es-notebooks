{
 "cells": [
  {
   "cell_type": "markdown",
   "id": "03cc644d",
   "metadata": {},
   "source": [
    "# Transmission lines"
   ]
  },
  {
   "cell_type": "markdown",
   "id": "f8af432f",
   "metadata": {},
   "source": [
    "## Transmission line delay\n",
    "\n",
    "In this demo consider a transmission line terminated in its characteristic impedance so there are no reflections.\n",
    "The blue line shows the waveform at the start of the transmission line and the orange waveform shows the waveform at the end of the transmission line.  For short transmission lines, `l_cm`, or slow risetimes the time delay has negligible efffect and the waveforms look identical.  However, for long transmission lines or fast risetimes, the voltages are not the same.  \n",
    "\n",
    "A rule of thumb for when wires need to treated as a transmission line is when\n",
    "\n",
    "$$ l > \\frac{v T_r}{6}$$\n",
    "\n",
    "where $T_r$ is the rise-time (or fall-time) and $l$ is the length."
   ]
  },
  {
   "cell_type": "code",
   "execution_count": 1,
   "id": "d630628e",
   "metadata": {},
   "outputs": [
    {
     "data": {
      "application/vnd.jupyter.widget-view+json": {
       "model_id": "5fdf5df055fd4b04a828add680472485",
       "version_major": 2,
       "version_minor": 0
      },
      "text/plain": [
       "interactive(children=(Dropdown(description='Tr_ns', options=(1, 2, 10, 100, 1000), value=1), Dropdown(descript…"
      ]
     },
     "metadata": {},
     "output_type": "display_data"
    }
   ],
   "source": [
    "%matplotlib inline\n",
    "from demos import txline_risetime_demo1\n",
    "txline_risetime_demo1();"
   ]
  },
  {
   "cell_type": "markdown",
   "id": "abfff794",
   "metadata": {},
   "source": [
    "## Distributed transmission line model\n",
    "\n",
    "In this demo the transmission line as a characteristic impedance $Z_0 = 60$ ohms.  Thus with a 3 V propagating voltage pulse the current pulse is $3 / 60 = 50$ mA."
   ]
  },
  {
   "cell_type": "code",
   "execution_count": 2,
   "id": "39aeee66",
   "metadata": {},
   "outputs": [
    {
     "data": {
      "application/vnd.jupyter.widget-view+json": {
       "model_id": "d233c61ab81848cdb27022a5607c1d91",
       "version_major": 2,
       "version_minor": 0
      },
      "text/plain": [
       "interactive(children=(IntSlider(value=0, description='timestep', max=12), Output()), _dom_classes=('widget-int…"
      ]
     },
     "metadata": {},
     "output_type": "display_data"
    }
   ],
   "source": [
    "from demos import txline_propagation_demo1\n",
    "txline_propagation_demo1();"
   ]
  }
 ],
 "metadata": {
  "kernelspec": {
   "display_name": "Python 3 (ipykernel)",
   "language": "python",
   "name": "python3"
  },
  "language_info": {
   "codemirror_mode": {
    "name": "ipython",
    "version": 3
   },
   "file_extension": ".py",
   "mimetype": "text/x-python",
   "name": "python",
   "nbconvert_exporter": "python",
   "pygments_lexer": "ipython3",
   "version": "3.7.11"
  }
 },
 "nbformat": 4,
 "nbformat_minor": 5
}
