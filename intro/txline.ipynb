{
 "cells": [
  {
   "cell_type": "markdown",
   "id": "3c04f4c7",
   "metadata": {},
   "source": [
    "## Transmission line delay\n",
    "\n",
    "In this demo consider a transmission line terminated in its characteristic impedance so there are no reflections.\n",
    "The blue line shows the waveform at the start of the transmission line and the orange waveform shows the waveform at the end of the transmission line.  For short transmission lines, `l_cm`, or low frequencies the time delay has negligible efffect and the waveforms look identical.  However, for long transmission lines or high frequencies, the delay creates a phase shift and thus the voltages are not the same."
   ]
  },
  {
   "cell_type": "code",
   "execution_count": 1,
   "id": "f50c56de",
   "metadata": {},
   "outputs": [
    {
     "data": {
      "application/vnd.jupyter.widget-view+json": {
       "model_id": "25ecdccfd73247e394e27cfdc9d62d1f",
       "version_major": 2,
       "version_minor": 0
      },
      "text/plain": [
       "interactive(children=(Dropdown(description='f_MHz', options=(1, 10, 100, 1000), value=1), Dropdown(description…"
      ]
     },
     "metadata": {},
     "output_type": "display_data"
    }
   ],
   "source": [
    "%matplotlib inline\n",
    "from demos import txline_demo1\n",
    "txline_demo1();"
   ]
  },
  {
   "cell_type": "code",
   "execution_count": 2,
   "id": "111c2521",
   "metadata": {
    "scrolled": true
   },
   "outputs": [
    {
     "data": {
      "application/vnd.jupyter.widget-view+json": {
       "model_id": "a9ec828e38a14bbea6b3093cf7d59e9f",
       "version_major": 2,
       "version_minor": 0
      },
      "text/plain": [
       "interactive(children=(Dropdown(description='Z0', index=1, options=(50, 60, 80, 100), value=60), Dropdown(descr…"
      ]
     },
     "metadata": {},
     "output_type": "display_data"
    }
   ],
   "source": [
    " \n",
    "from demos import txline_demo2\n",
    "txline_demo2();"
   ]
  },
  {
   "cell_type": "code",
   "execution_count": 3,
   "id": "604527f3",
   "metadata": {},
   "outputs": [
    {
     "data": {
      "application/vnd.jupyter.widget-view+json": {
       "model_id": "383f85d5d0ca4a91a37b0c22d3f7cba9",
       "version_major": 2,
       "version_minor": 0
      },
      "text/plain": [
       "interactive(children=(Dropdown(description='Z0', index=1, options=(50, 60, 80, 100), value=60), Dropdown(descr…"
      ]
     },
     "metadata": {},
     "output_type": "display_data"
    }
   ],
   "source": [
    " \n",
    "from demos import txline_demo3\n",
    "txline_demo3();"
   ]
  }
 ],
 "metadata": {
  "kernelspec": {
   "display_name": "Python 3 (ipykernel)",
   "language": "python",
   "name": "python3"
  },
  "language_info": {
   "codemirror_mode": {
    "name": "ipython",
    "version": 3
   },
   "file_extension": ".py",
   "mimetype": "text/x-python",
   "name": "python",
   "nbconvert_exporter": "python",
   "pygments_lexer": "ipython3",
   "version": "3.7.11"
  }
 },
 "nbformat": 4,
 "nbformat_minor": 5
}
