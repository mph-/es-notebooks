{
 "cells": [
  {
   "cell_type": "markdown",
   "id": "da5589fe",
   "metadata": {},
   "source": [
    "## Transmission line delay\n",
    "\n",
    "In this demo consider a transmission line terminated in its characteristic impedance so there are no reflections.\n",
    "The blue line shows the waveform at the start of the transmission line and the orange waveform shows the waveform at the end of the transmission line.  For short transmission lines, `l_cm`, or low frequencies the time delay has negligible efffect and the waveforms look identical.  However, for long transmission lines or high frequencies, the delay creates a phase shift and thus the voltages are not the same."
   ]
  },
  {
   "cell_type": "code",
   "execution_count": 1,
   "id": "aefb4de6",
   "metadata": {},
   "outputs": [
    {
     "data": {
      "application/vnd.jupyter.widget-view+json": {
       "model_id": "78950e590f514010910974ea1d90f541",
       "version_major": 2,
       "version_minor": 0
      },
      "text/plain": [
       "interactive(children=(Dropdown(description='f_MHz', options=(1, 10, 100, 1000), value=1), Dropdown(description…"
      ]
     },
     "metadata": {},
     "output_type": "display_data"
    }
   ],
   "source": [
    "%matplotlib inline\n",
    "from demos import txline_demo1\n",
    "txline_demo1();"
   ]
  },
  {
   "cell_type": "markdown",
   "id": "f38c8fb2",
   "metadata": {},
   "source": [
    "## Transmission line reflections"
   ]
  },
  {
   "cell_type": "code",
   "execution_count": 2,
   "id": "b983c642",
   "metadata": {
    "scrolled": true
   },
   "outputs": [
    {
     "data": {
      "application/vnd.jupyter.widget-view+json": {
       "model_id": "9ca7be7e2ae34796b548369c0888513a",
       "version_major": 2,
       "version_minor": 0
      },
      "text/plain": [
       "interactive(children=(Dropdown(description='Z0', index=1, options=(50, 60, 80, 100), value=60), Dropdown(descr…"
      ]
     },
     "metadata": {},
     "output_type": "display_data"
    }
   ],
   "source": [
    " \n",
    "from demos import txline_demo2\n",
    "txline_demo2();"
   ]
  },
  {
   "cell_type": "markdown",
   "id": "443de18b",
   "metadata": {},
   "source": [
    "## Transmission line reflections\n",
    "\n",
    "This demo shows reflections for a 1 m transmission line with a propagation speed of 2/3 c, i.e, it takes 5 ns for an EM wave to propagate 1 m.  The transmission is driven by a 4 V voltage step.  The voltage and current is shown as a function of distance along the transmission line at a specified time."
   ]
  },
  {
   "cell_type": "code",
   "execution_count": 3,
   "id": "e28bb076",
   "metadata": {
    "scrolled": true
   },
   "outputs": [
    {
     "data": {
      "application/vnd.jupyter.widget-view+json": {
       "model_id": "b6b7c0fbb01c4f0a941ebc8374dab145",
       "version_major": 2,
       "version_minor": 0
      },
      "text/plain": [
       "interactive(children=(Dropdown(description='Z0', index=1, options=(50, 60, 80, 100), value=60), Dropdown(descr…"
      ]
     },
     "metadata": {},
     "output_type": "display_data"
    }
   ],
   "source": [
    "from demos import txline_demo3\n",
    "txline_demo3();"
   ]
  },
  {
   "cell_type": "code",
   "execution_count": 4,
   "id": "2512c2a2",
   "metadata": {},
   "outputs": [
    {
     "data": {
      "application/vnd.jupyter.widget-view+json": {
       "model_id": "180c4f6fc46346e29e902756209c18d9",
       "version_major": 2,
       "version_minor": 0
      },
      "text/plain": [
       "interactive(children=(Dropdown(description='Z0', index=1, options=(50, 60, 80, 100), value=60), Dropdown(descr…"
      ]
     },
     "metadata": {},
     "output_type": "display_data"
    }
   ],
   "source": [
    "from demos import txline_demo4\n",
    "txline_demo4();"
   ]
  }
 ],
 "metadata": {
  "kernelspec": {
   "display_name": "Python 3 (ipykernel)",
   "language": "python",
   "name": "python3"
  },
  "language_info": {
   "codemirror_mode": {
    "name": "ipython",
    "version": 3
   },
   "file_extension": ".py",
   "mimetype": "text/x-python",
   "name": "python",
   "nbconvert_exporter": "python",
   "pygments_lexer": "ipython3",
   "version": "3.7.11"
  }
 },
 "nbformat": 4,
 "nbformat_minor": 5
}
