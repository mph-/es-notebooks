{
 "cells": [
  {
   "cell_type": "markdown",
   "id": "3e992775",
   "metadata": {},
   "source": [
    "## Transmission line delay\n",
    "\n",
    "In this demo consider a transmission line terminated in its characteristic impedance so there are no reflections.\n",
    "The blue line shows the waveform at the start of the transmission line and the orange waveform shows the waveform at the end of the transmission line.  For short transmission lines, `l_cm`, or low frequencies the time delay has negligible efffect and the waveforms look identical.  However, for long transmission lines or high frequencies, the delay creates a phase shift and thus the voltages are not the same."
   ]
  },
  {
   "cell_type": "code",
   "execution_count": 1,
   "id": "6b528f24",
   "metadata": {},
   "outputs": [
    {
     "data": {
      "application/vnd.jupyter.widget-view+json": {
       "model_id": "830ab6e502454a448fc5f4046b2e756c",
       "version_major": 2,
       "version_minor": 0
      },
      "text/plain": [
       "interactive(children=(Dropdown(description='f_MHz', options=(1, 10, 100, 1000), value=1), Dropdown(description…"
      ]
     },
     "metadata": {},
     "output_type": "display_data"
    }
   ],
   "source": [
    "%matplotlib inline\n",
    "from demos import txline_demo1\n",
    "txline_demo1();"
   ]
  },
  {
   "cell_type": "markdown",
   "id": "528e735e",
   "metadata": {},
   "source": [
    "## Transmission line reflections\n",
    "\n",
    "This demo shows reflections for a 1 m transmission line with a propagation speed of 2/3 c, i.e, it takes 5 ns for an EM wave to propagate 1 m.  The transmission is driven by a 4 V voltage step.  The voltage and current is shown as a function of distance along the transmission line at a specified time.\n",
    "\n",
    "![](figs/txline_mismatch_example1.png)"
   ]
  },
  {
   "cell_type": "code",
   "execution_count": 2,
   "id": "974b05b5",
   "metadata": {
    "scrolled": false
   },
   "outputs": [
    {
     "data": {
      "application/vnd.jupyter.widget-view+json": {
       "model_id": "abea93c51b204e8ca6115e6dddc2ee3a",
       "version_major": 2,
       "version_minor": 0
      },
      "text/plain": [
       "interactive(children=(Dropdown(description='Z0', index=1, options=(50, 60, 80, 100), value=60), Dropdown(descr…"
      ]
     },
     "metadata": {},
     "output_type": "display_data"
    }
   ],
   "source": [
    "from demos import txline_demo3\n",
    "txline_demo3();"
   ]
  },
  {
   "cell_type": "code",
   "execution_count": 3,
   "id": "b1afff16",
   "metadata": {},
   "outputs": [
    {
     "data": {
      "application/vnd.jupyter.widget-view+json": {
       "model_id": "c53c598bed6e4df59970be7dd8daced0",
       "version_major": 2,
       "version_minor": 0
      },
      "text/plain": [
       "interactive(children=(Dropdown(description='Z0', index=1, options=(50, 60, 80, 100), value=60), Dropdown(descr…"
      ]
     },
     "metadata": {},
     "output_type": "display_data"
    }
   ],
   "source": [
    "from demos import txline_demo4\n",
    "txline_demo4();"
   ]
  },
  {
   "cell_type": "code",
   "execution_count": 4,
   "id": "136f0c62",
   "metadata": {
    "scrolled": false
   },
   "outputs": [
    {
     "data": {
      "application/vnd.jupyter.widget-view+json": {
       "model_id": "f15f1f9ce16f4ceeb66312a2eb0c509d",
       "version_major": 2,
       "version_minor": 0
      },
      "text/plain": [
       "interactive(children=(Dropdown(description='Z0', index=1, options=(50, 60, 80, 100), value=60), Dropdown(descr…"
      ]
     },
     "metadata": {},
     "output_type": "display_data"
    }
   ],
   "source": [
    "from demos import txline_lattice_demo1\n",
    "txline_lattice_demo1();"
   ]
  }
 ],
 "metadata": {
  "kernelspec": {
   "display_name": "Python 3 (ipykernel)",
   "language": "python",
   "name": "python3"
  },
  "language_info": {
   "codemirror_mode": {
    "name": "ipython",
    "version": 3
   },
   "file_extension": ".py",
   "mimetype": "text/x-python",
   "name": "python",
   "nbconvert_exporter": "python",
   "pygments_lexer": "ipython3",
   "version": "3.7.11"
  }
 },
 "nbformat": 4,
 "nbformat_minor": 5
}
