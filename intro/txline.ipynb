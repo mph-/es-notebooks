{
 "cells": [
  {
   "cell_type": "markdown",
   "id": "15f0f649",
   "metadata": {},
   "source": [
    "# Transmission line reflections\n",
    "\n",
    "These demos consider a 1 m transmission line with a propagation speed of 2/3 c, i.e, it takes 5 ns for an EM wave to propagate 1 m.  The transmission is driven by a 4 V voltage step.  The voltage and current is shown as a function of distance along the transmission line at a specified time.\n",
    "\n",
    "![](figs/txline_mismatch_example1.png)"
   ]
  },
  {
   "cell_type": "markdown",
   "id": "3e992775",
   "metadata": {},
   "source": [
    "## Transmission line delay\n",
    "\n",
    "In this demo consider a transmission line terminated in its characteristic impedance so there are no reflections.\n",
    "The blue line shows the waveform at the start of the transmission line and the orange waveform shows the waveform at the end of the transmission line.  For short transmission lines, `l_cm`, or slow risetimes the time delay has negligible efffect and the waveforms look identical.  However, for long transmission lines or fast risetimes, the voltages are not the same.  \n",
    "\n",
    "A rule of thumb for when wires need to treated as a transmission line is when\n",
    "\n",
    "$$ l > \\frac{v T_r}{6}$$\n",
    "\n",
    "where $T_r$ is the rise-time (or fall-time) and $l$ is the length."
   ]
  },
  {
   "cell_type": "code",
   "execution_count": 1,
   "id": "895b15d3",
   "metadata": {},
   "outputs": [
    {
     "data": {
      "application/vnd.jupyter.widget-view+json": {
       "model_id": "16f3f8dedadb4b92afb8e8f9480deff4",
       "version_major": 2,
       "version_minor": 0
      },
      "text/plain": [
       "interactive(children=(Dropdown(description='Tr_ns', options=(1, 2, 10, 100, 1000), value=1), Dropdown(descript…"
      ]
     },
     "metadata": {},
     "output_type": "display_data"
    }
   ],
   "source": [
    "%matplotlib inline\n",
    "from demos import txline_risetime_demo1\n",
    "txline_risetime_demo1();"
   ]
  },
  {
   "cell_type": "markdown",
   "id": "0f0ace4b",
   "metadata": {},
   "source": [
    "## Distributed transmission line model"
   ]
  },
  {
   "cell_type": "code",
   "execution_count": 2,
   "id": "b9aa64d1",
   "metadata": {
    "scrolled": false
   },
   "outputs": [
    {
     "data": {
      "application/vnd.jupyter.widget-view+json": {
       "model_id": "eba452bc70984f0383b0db6032b723cf",
       "version_major": 2,
       "version_minor": 0
      },
      "text/plain": [
       "interactive(children=(IntSlider(value=0, description='step', max=12), Output()), _dom_classes=('widget-interac…"
      ]
     },
     "metadata": {},
     "output_type": "display_data"
    }
   ],
   "source": [
    "from demos import txline_propagation_demo1\n",
    "txline_propagation_demo1();"
   ]
  },
  {
   "cell_type": "markdown",
   "id": "528e735e",
   "metadata": {},
   "source": [
    "## Transmission line lattice diagram\n",
    "\n",
    "The reflections due to impedance mismatches at both ends of a transmission line are best considered with a lattice diagram.  This shows the voltage of the propagating pulse as a function of time and position along the transmission line.\n",
    "\n",
    "For example, choose $V_s=4$, $Z_0=60$, $R_s=20$, and $R_l=\\infty$.   In the steady state the load voltage is $V_l=4$ and the load current is $I_l=0$ as expected from circuit theory.\n",
    "\n",
    "When there is a step change of the source voltage from 0 to 4 V, a 3 V voltage pulse enters the transmission line.  This is because the characteristic impedance of the transmission line acts as a voltage divider with the source resistance $4 \\times \\frac{60}{60 + 20} = 3$.  The corresponding pulse of current is $\\frac{3}{60} = 50$ mA.  When the pulse of energy reaches the end of the transmission line (with a delay of 5 ns) it gets reflected.  The voltage reflection coefficient is $\\frac{R_l - Z_0}{R_l + Z_0} = 1$ and the current reflection coefficient is -1.   Thus a 3 V pulse with current -50 mA propagates back to the source adding to the 3 V and 50 mA due to the initial pulse.   When the reflected pulse reaches the start of the transmission line it is reflected with a voltage reflection coefficient $\\frac{R_s - Z_0}{R_s + Z_0} = -0.5$ and current reflection coefficient 0.5.  This produces a another reflection with a voltage -1.5 V and current -25 mA.  Eventually all these reflections will die out resulting in a steady state value."
   ]
  },
  {
   "cell_type": "code",
   "execution_count": 3,
   "id": "b505e686",
   "metadata": {
    "scrolled": false
   },
   "outputs": [
    {
     "data": {
      "application/vnd.jupyter.widget-view+json": {
       "model_id": "9261cf92e2ac4108aa7bdff78b20de91",
       "version_major": 2,
       "version_minor": 0
      },
      "text/plain": [
       "interactive(children=(Dropdown(description='Z0', index=1, options=(50, 60, 80, 100), value=60), Dropdown(descr…"
      ]
     },
     "metadata": {},
     "output_type": "display_data"
    }
   ],
   "source": [
    "from demos import txline_lattice_demo1\n",
    "txline_lattice_demo1();"
   ]
  },
  {
   "cell_type": "markdown",
   "id": "f8b8f2a1",
   "metadata": {},
   "source": [
    "# Summed transmission line reflections\n",
    "\n",
    "This demos shows how the reflected waves sum at different points along the transmission line."
   ]
  },
  {
   "cell_type": "code",
   "execution_count": 4,
   "id": "974b05b5",
   "metadata": {
    "scrolled": false
   },
   "outputs": [
    {
     "data": {
      "application/vnd.jupyter.widget-view+json": {
       "model_id": "71841cc8d444403d832be081960093da",
       "version_major": 2,
       "version_minor": 0
      },
      "text/plain": [
       "interactive(children=(Dropdown(description='Z0', index=1, options=(50, 60, 80, 100), value=60), Dropdown(descr…"
      ]
     },
     "metadata": {},
     "output_type": "display_data"
    }
   ],
   "source": [
    "from demos import txline_demo3\n",
    "txline_demo3();"
   ]
  },
  {
   "cell_type": "markdown",
   "id": "1cad42b9",
   "metadata": {},
   "source": [
    "# Transmission line waveforms\n",
    "\n",
    "This demo shows the waveforms at the source and load ends of the transmission line."
   ]
  },
  {
   "cell_type": "code",
   "execution_count": 5,
   "id": "b1afff16",
   "metadata": {
    "scrolled": true
   },
   "outputs": [
    {
     "data": {
      "application/vnd.jupyter.widget-view+json": {
       "model_id": "d855c9d6472e4e5490a5af0a9cb3fb0c",
       "version_major": 2,
       "version_minor": 0
      },
      "text/plain": [
       "interactive(children=(Dropdown(description='Z0', index=1, options=(50, 60, 80, 100), value=60), Dropdown(descr…"
      ]
     },
     "metadata": {},
     "output_type": "display_data"
    }
   ],
   "source": [
    "from demos import txline_demo4\n",
    "txline_demo4();"
   ]
  },
  {
   "cell_type": "code",
   "execution_count": null,
   "id": "3ab5b495",
   "metadata": {
    "scrolled": false
   },
   "outputs": [],
   "source": []
  }
 ],
 "metadata": {
  "kernelspec": {
   "display_name": "Python 3 (ipykernel)",
   "language": "python",
   "name": "python3"
  },
  "language_info": {
   "codemirror_mode": {
    "name": "ipython",
    "version": 3
   },
   "file_extension": ".py",
   "mimetype": "text/x-python",
   "name": "python",
   "nbconvert_exporter": "python",
   "pygments_lexer": "ipython3",
   "version": "3.7.11"
  }
 },
 "nbformat": 4,
 "nbformat_minor": 5
}
