{
 "cells": [
  {
   "cell_type": "markdown",
   "metadata": {},
   "source": [
    "# Embedded Systems\n",
    "\n",
    "M.P. Hayes, Electrical and Computer Engineering, University of Canterbury\n",
    "\n",
    "The code for these demos is available from https://github.com/mph-/es-notebooks. \n",
    "\n",
    "[Click here](intro/git-update.ipynb) to update the notebook files.   To report a bug, see https://github.com/mph-/es-notebooks/issues/new."
   ]
  },
  {
   "cell_type": "markdown",
   "metadata": {},
   "source": [
    "## CMOS IV curves\n",
    "1. [IV curves](intro/iv_curves1.ipynb)\n",
    "\n",
    "## CMOS switching\n",
    "1. [CMOS switching](intro/risetime.ipynb)\n",
    "\n",
    "## Transmission lines\n",
    "1. [Transmission lines](intro/txline.ipynb)\n",
    "2. [Transmission line reflections](intro/txline_reflections.ipynb)\n",
    "3. [Transmission line termination](intro/txline_termination.ipynb)"
   ]
  },
  {
   "cell_type": "markdown",
   "metadata": {},
   "source": []
  }
 ],
 "metadata": {
  "kernelspec": {
   "display_name": "Python 3 (ipykernel)",
   "language": "python",
   "name": "python3"
  },
  "language_info": {
   "codemirror_mode": {
    "name": "ipython",
    "version": 3
   },
   "file_extension": ".py",
   "mimetype": "text/x-python",
   "name": "python",
   "nbconvert_exporter": "python",
   "pygments_lexer": "ipython3",
   "version": "3.7.11"
  }
 },
 "nbformat": 4,
 "nbformat_minor": 2
}
